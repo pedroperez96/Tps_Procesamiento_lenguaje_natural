{
  "nbformat": 4,
  "nbformat_minor": 0,
  "metadata": {
    "colab": {
      "provenance": []
    },
    "kernelspec": {
      "name": "python3",
      "display_name": "Python 3"
    },
    "language_info": {
      "name": "python"
    }
  },
  "cells": [
    {
      "cell_type": "code",
      "execution_count": 1,
      "metadata": {
        "colab": {
          "base_uri": "https://localhost:8080/",
          "height": 1000
        },
        "id": "1oelYGlzxuM1",
        "outputId": "be57936c-a057-4f96-c40d-8b2b60b7c7bc"
      },
      "outputs": [
        {
          "output_type": "stream",
          "name": "stderr",
          "text": [
            "[nltk_data] Downloading package stopwords to /root/nltk_data...\n",
            "[nltk_data]   Unzipping corpora/stopwords.zip.\n",
            "[nltk_data] Downloading package punkt to /root/nltk_data...\n",
            "[nltk_data]   Unzipping tokenizers/punkt.zip.\n"
          ]
        },
        {
          "output_type": "stream",
          "name": "stdout",
          "text": [
            "      id                                              title  \\\n",
            "0  20800  Specter of Trump Loosens Tongues, if Not Purse...   \n",
            "1  20801  Russian warships ready to strike terrorists ne...   \n",
            "2  20802  #NoDAPL: Native American Leaders Vow to Stay A...   \n",
            "3  20803  Tim Tebow Will Attempt Another Comeback, This ...   \n",
            "4  20804                    Keiser Report: Meme Wars (E995)   \n",
            "\n",
            "                    author                                               text  \n",
            "0         David Streitfeld  PALO ALTO, Calif.  —   After years of scorning...  \n",
            "1                      NaN  Russian warships ready to strike terrorists ne...  \n",
            "2            Common Dreams  Videos #NoDAPL: Native American Leaders Vow to...  \n",
            "3            Daniel Victor  If at first you don’t succeed, try a different...  \n",
            "4  Truth Broadcast Network  42 mins ago 1 Views 0 Comments 0 Likes 'For th...  \n",
            "Palabras similares a 'news':\n",
            "  searchlight: 0.7921243906021118\n",
            "  press: 0.6555326581001282\n",
            "  newsmax: 0.6308291554450989\n",
            "  cnn: 0.5905570983886719\n",
            "  mainstream: 0.5660356879234314\n",
            "  reporting: 0.5530587434768677\n",
            "  breitbartvideo: 0.5478269457817078\n",
            "  host: 0.5451142191886902\n",
            "  cavuto: 0.544318675994873\n",
            "  pushback: 0.5379925966262817\n",
            "Palabras similares a 'fake':\n",
            "  outlets: 0.8577538728713989\n",
            "  faking: 0.8364797234535217\n",
            "  websites: 0.822914719581604\n",
            "  outlet: 0.8067017793655396\n",
            "  rinf: 0.7858906984329224\n",
            "  headlines: 0.7851887345314026\n",
            "  nightly: 0.7847297787666321\n",
            "  demonetisation: 0.7700305581092834\n",
            "  networks: 0.7693641781806946\n",
            "  breaking: 0.7642683982849121\n",
            "Palabras similares a 'truth':\n",
            "  true: 0.9012460112571716\n",
            "  lies: 0.8812048435211182\n",
            "  totally: 0.8747650384902954\n",
            "  absolutely: 0.8634434938430786\n",
            "  narrative: 0.8599901795387268\n",
            "  facts: 0.8516253232955933\n",
            "  clearly: 0.8439037799835205\n",
            "  ignore: 0.8368654847145081\n",
            "  completely: 0.8256121873855591\n",
            "  lie: 0.8214210271835327\n",
            "Palabras similares a 'report':\n",
            "  conducted: 0.8005573749542236\n",
            "  reporting: 0.7824580669403076\n",
            "  reports: 0.7766726613044739\n",
            "  findings: 0.7523666024208069\n",
            "  analysis: 0.7407096028327942\n",
            "  publication: 0.7406660914421082\n",
            "  document: 0.7384203672409058\n",
            "  documents: 0.7290468215942383\n",
            "  provided: 0.726446807384491\n",
            "  detailed: 0.7235096096992493\n",
            "Palabras similares a 'media':\n",
            "  outlets: 0.6827292442321777\n",
            "  fake: 0.6794939637184143\n",
            "  network: 0.6554880142211914\n",
            "  networks: 0.6190646886825562\n",
            "  journalists: 0.6123791337013245\n",
            "  commentaries: 0.5920205116271973\n",
            "  propaganda: 0.5790525674819946\n",
            "  politics: 0.5564596056938171\n",
            "  mainstream: 0.5553811192512512\n",
            "  brevity: 0.5539426207542419\n"
          ]
        },
        {
          "output_type": "display_data",
          "data": {
            "text/plain": [
              "<Figure size 1000x1000 with 1 Axes>"
            ],
            "image/png": "[encoded data removed]"
          },
          "metadata": {}
        },
        {
          "output_type": "stream",
          "name": "stdout",
          "text": [
            "\n",
            "Conclusiones:\n",
            "Al observar las palabras similares a términos de interés como 'news', 'fake', 'truth', 'report' y 'media', podemos ver que el modelo ha capturado relaciones semánticas relevantes. Por ejemplo, palabras similares a 'news' pueden incluir términos relacionados con la prensa y el periodismo. La gráfica de embeddings muestra cómo estas palabras se agrupan en el espacio de alta dimensionalidad, reflejando sus similitudes y diferencias.\n"
          ]
        }
      ],
      "source": [
        "# Importamos las librerías necesarias\n",
        "import pandas as pd\n",
        "import nltk\n",
        "from nltk.corpus import stopwords\n",
        "from gensim.models import Word2Vec\n",
        "import matplotlib.pyplot as plt\n",
        "from sklearn.decomposition import PCA\n",
        "\n",
        "# Descargar stopwords\n",
        "nltk.download('stopwords')\n",
        "nltk.download('punkt')\n",
        "\n",
        "# Cargar el dataset de Kaggle\n",
        "# Supongamos que el dataset está guardado en un archivo CSV llamado 'test.csv'\n",
        "data = pd.read_csv('test.csv')\n",
        "\n",
        "# Mostrar las primeras filas del dataset\n",
        "print(data.head())\n",
        "\n",
        "# Preprocesar los datos\n",
        "def preprocess_text(text):\n",
        "    stop_words = set(stopwords.words('english'))\n",
        "    tokens = nltk.word_tokenize(text.lower())\n",
        "    tokens = [word for word in tokens if word.isalpha() and word not in stop_words]\n",
        "    return tokens\n",
        "\n",
        "# Aplicar preprocesamiento a la columna de texto del dataset, manejando NaN\n",
        "data['processed_text'] = data['text'].fillna('').apply(preprocess_text)\n",
        "\n",
        "# Entrenar el modelo Word2Vec\n",
        "sentences = data['processed_text'].tolist()\n",
        "model = Word2Vec(sentences, vector_size=100, window=5, min_count=5, workers=4)\n",
        "\n",
        "# Probar términos de interés y explicar similitudes en el espacio de embeddings\n",
        "terms_of_interest = ['news', 'fake', 'truth', 'report', 'media']\n",
        "for term in terms_of_interest:\n",
        "    if term in model.wv:\n",
        "        similar_words = model.wv.most_similar(term)\n",
        "        print(f\"Palabras similares a '{term}':\")\n",
        "        for word, similarity in similar_words:\n",
        "            print(f\"  {word}: {similarity}\")\n",
        "    else:\n",
        "        print(f\"La palabra '{term}' no está en el vocabulario del modelo.\")\n",
        "\n",
        "# Graficar los embeddings\n",
        "def plot_embeddings(model, terms):\n",
        "    words = []\n",
        "    vectors = []\n",
        "    for term in terms:\n",
        "        if term in model.wv:\n",
        "            words.append(term)\n",
        "            vectors.append(model.wv[term])\n",
        "    pca = PCA(n_components=2)\n",
        "    result = pca.fit_transform(vectors)\n",
        "    plt.figure(figsize=(10, 10))\n",
        "    plt.scatter(result[:, 0], result[:, 1])\n",
        "    for i, word in enumerate(words):\n",
        "        plt.annotate(word, xy=(result[i, 0], result[i, 1]))\n",
        "    plt.title('Visualización de Embeddings de Palabras')\n",
        "    plt.show()\n",
        "\n",
        "# Graficar los términos de interés\n",
        "plot_embeddings(model, terms_of_interest)\n",
        "\n",
        "# Obtener conclusiones\n",
        "print(\"\\nConclusiones:\")\n",
        "print(\"Al observar las palabras similares a términos de interés como 'news', 'fake', 'truth', 'report' y 'media', podemos ver que el modelo ha capturado relaciones semánticas relevantes. Por ejemplo, palabras similares a 'news' pueden incluir términos relacionados con la prensa y el periodismo. La gráfica de embeddings muestra cómo estas palabras se agrupan en el espacio de alta dimensionalidad, reflejando sus similitudes y diferencias.\")\n"
      ]
    }
  ]
}