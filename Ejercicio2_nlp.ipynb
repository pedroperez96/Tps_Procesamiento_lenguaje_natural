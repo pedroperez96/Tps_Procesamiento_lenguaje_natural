{
  "nbformat": 4,
  "nbformat_minor": 0,
  "metadata": {
    "colab": {
      "provenance": []
    },
    "kernelspec": {
      "name": "python3",
      "display_name": "Python 3"
    },
    "language_info": {
      "name": "python"
    }
  },
  "cells": [
    {
      "cell_type": "markdown",
      "source": [
        "\n",
        "Ejercicio\n",
        "Tomar un ejemplo de los bots utilizados (uno de los dos) y construir el propio.\n",
        "Sacar conclusiones de los resultados.\n",
        "IMPORTANTE: Recuerde para la entrega del ejercicio debe quedar registrado en el colab las preguntas y las respuestas del BOT para que podamos evaluar el desempeño final.\n",
        "\n"
      ],
      "metadata": {
        "id": "lwd6nin3u9vQ"
      }
    },
    {
      "cell_type": "code",
      "execution_count": null,
      "metadata": {
        "colab": {
          "base_uri": "https://localhost:8080/"
        },
        "id": "4p-c-Qz2u8RL",
        "outputId": "2d4a7490-4625-4bec-d411-8bb3e32ef592"
      },
      "outputs": [
        {
          "output_type": "stream",
          "name": "stderr",
          "text": [
            "[nltk_data] Downloading package punkt to /root/nltk_data...\n",
            "[nltk_data]   Unzipping tokenizers/punkt.zip.\n",
            "[nltk_data] Downloading package stopwords to /root/nltk_data...\n",
            "[nltk_data]   Unzipping corpora/stopwords.zip.\n"
          ]
        },
        {
          "output_type": "stream",
          "name": "stdout",
          "text": [
            "Hola, soy tu chatbot. ¿En qué puedo ayudarte? (Escribe 'salir' para terminar la conversación)\n",
            "Usuario: ¿Qué puedes hacer?\n",
            "ChatBot:  Puedo responder preguntas y ayudarte con información.\n",
            "Usuario: ¿Cuál es tu propósito?\n",
            "ChatBot:  Estoy aquí para asistirte con tus consultas sobre tecnología y más.\n",
            "Usuario: ¿Cómo te llamas?\n",
            "ChatBot:  Soy un asistente virtual.\n",
            "Usuario: ¿Cuál es tu origen?\n",
            "ChatBot:  Fui creado para ayudarte en diversas tareas.\n",
            "Usuario: ¿Qué es la inteligencia artificial?\n",
            "ChatBot:  La inteligencia artificial es una disciplina que busca crear máquinas que puedan realizar tareas que normalmente requieren inteligencia humana.\n",
            "Usuario: ¿Cuáles son los beneficios del procesamiento de lenguaje natural?\n",
            "ChatBot:  El procesamiento de lenguaje natural mejora la interacción entre humanos y máquinas, permitiendo una comunicación más natural y eficiente.\n",
            "Usuario: ¿Qué es un modelo de lenguaje?\n",
            "ChatBot:  Un modelo de lenguaje es un algoritmo que puede predecir la probabilidad de una secuencia de palabras.\n",
            "Usuario: ¿Cómo funciona un agente conversacional?\n",
            "ChatBot:  Un agente conversacional utiliza algoritmos de PLN para entender y responder a las preguntas de los usuarios.\n",
            "Usuario: ¿Qué es el aprendizaje profundo?\n",
            "ChatBot:  El aprendizaje profundo es una subrama del aprendizaje automático que utiliza redes neuronales con muchas capas para analizar datos y tomar decisiones.\n"
          ]
        }
      ],
      "source": [
        "# Importamos las librerías necesarias\n",
        "import numpy as np\n",
        "import nltk\n",
        "from nltk.corpus import stopwords\n",
        "from sklearn.feature_extraction.text import TfidfVectorizer\n",
        "from sklearn.metrics.pairwise import cosine_similarity\n",
        "import warnings\n",
        "\n",
        "# Ignoramos los warnings\n",
        "warnings.filterwarnings('ignore')\n",
        "\n",
        "nltk.download('punkt') # Primero descargamos punkt\n",
        "nltk.download('stopwords') # Luego descargamos las stopwords\n",
        "\n",
        "# Definimos las preguntas y respuestas del chatbot\n",
        "data = {\n",
        "    'preguntas': [\n",
        "        '¿Qué puedes hacer?', '¿Cuál es tu propósito?', '¿Cómo te llamas?',\n",
        "        '¿Cuál es tu origen?', '¿Qué es la inteligencia artificial?',\n",
        "        '¿Cuáles son los beneficios del procesamiento de lenguaje natural?', '¿Qué es un modelo de lenguaje?',\n",
        "        '¿Cómo funciona un agente conversacional?', '¿Qué es el aprendizaje profundo?'\n",
        "    ],\n",
        "    'respuestas': [\n",
        "        'Puedo responder preguntas y ayudarte con información.', 'Estoy aquí para asistirte con tus consultas sobre tecnología y más.',\n",
        "        'Soy un asistente virtual.', 'Fui creado para ayudarte en diversas tareas.',\n",
        "        'La inteligencia artificial es una disciplina que busca crear máquinas que puedan realizar tareas que normalmente requieren inteligencia humana.',\n",
        "        'El procesamiento de lenguaje natural mejora la interacción entre humanos y máquinas, permitiendo una comunicación más natural y eficiente.',\n",
        "        'Un modelo de lenguaje es un algoritmo que puede predecir la probabilidad de una secuencia de palabras.',\n",
        "        'Un agente conversacional utiliza algoritmos de PLN para entender y responder a las preguntas de los usuarios.',\n",
        "        'El aprendizaje profundo es una subrama del aprendizaje automático que utiliza redes neuronales con muchas capas para analizar datos y tomar decisiones.'\n",
        "    ]\n",
        "}\n",
        "\n",
        "# Convertimos todas las preguntas a minúsculas\n",
        "data['preguntas'] = [pregunta.lower() for pregunta in data['preguntas']]\n",
        "\n",
        "# Creamos nuestro vectorizador TF-IDF\n",
        "vectorizer = TfidfVectorizer(ngram_range=(1,3), stop_words=stopwords.words('spanish'))\n",
        "\n",
        "# Entrenamos el vectorizador con nuestras preguntas\n",
        "X = vectorizer.fit_transform(data['preguntas'])\n",
        "\n",
        "def chatbot(pregunta):\n",
        "    # Convertimos la pregunta a minúsculas\n",
        "    pregunta = pregunta.lower()\n",
        "\n",
        "    # Calculamos la matriz tf-idf de la pregunta\n",
        "    pregunta_tf_idf = vectorizer.transform([pregunta])\n",
        "\n",
        "    # Calculamos la similitud del coseno entre la pregunta del usuario y todas las preguntas en nuestros datos\n",
        "    cosineValues = cosine_similarity(pregunta_tf_idf, X)\n",
        "\n",
        "    # Obtenemos el índice de la pregunta más similar en nuestros datos\n",
        "    idx = np.argmax(cosineValues)\n",
        "\n",
        "    # Si la similitud del coseno es 0 entonces la pregunta del usuario no es similar a ninguna de nuestras preguntas\n",
        "    if cosineValues[0][idx] == 0:\n",
        "        return \"Lo siento, no puedo responder a esa pregunta.\"\n",
        "    else:\n",
        "        return data['respuestas'][idx]\n",
        "\n",
        "# Función principal para interactuar con el usuario\n",
        "def iniciar_chatbot():\n",
        "    print(\"Hola, soy tu chatbot. ¿En qué puedo ayudarte? (Escribe 'salir' para terminar la conversación)\")\n",
        "    while True:\n",
        "        userInput = input(\"Usuario: \")\n",
        "        if userInput.lower() == 'salir':\n",
        "            print(\"ChatBot: Adiós!\")\n",
        "            break\n",
        "        respuesta = chatbot(userInput)\n",
        "        print(\"ChatBot: \", respuesta)\n",
        "\n",
        "# Iniciamos el chatbot\n",
        "if __name__ == \"__main__\":\n",
        "    iniciar_chatbot()\n"
      ]
    }
  ]
}